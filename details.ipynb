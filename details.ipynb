{
  "nbformat": 4,
  "nbformat_minor": 0,
  "metadata": {
    "colab": {
      "name": "details.ipynb",
      "provenance": [],
      "collapsed_sections": [
        "uQ2O-vor61Hc"
      ]
    },
    "kernelspec": {
      "name": "python3",
      "display_name": "Python 3"
    },
    "language_info": {
      "name": "python"
    }
  },
  "cells": [
    {
      "cell_type": "markdown",
      "source": [
        "# Создание"
      ],
      "metadata": {
        "id": "mLnyfAzB2CBK"
      }
    },
    {
      "cell_type": "code",
      "execution_count": null,
      "metadata": {
        "id": "AhPeat4mkAyx"
      },
      "outputs": [],
      "source": [
        "from tensorflow.keras.models import Sequential\n",
        "from tensorflow.keras.layers import Activation, Dropout, Flatten, Dense\n",
        "from tensorflow.keras.optimizers import Adam\n",
        "from IPython.display import Image\n",
        "from tensorflow.keras.preprocessing.image import load_img, img_to_array\n",
        "import tensorflow as tf\n",
        "import numpy as np\n",
        "import matplotlib.pyplot as plt\n",
        "from tensorflow.keras import layers\n"
      ]
    },
    {
      "cell_type": "code",
      "source": [
        "# подключение гугл диска\n",
        "from google.colab import drive\n",
        "drive.mount('/content/drive')"
      ],
      "metadata": {
        "colab": {
          "base_uri": "https://localhost:8080/"
        },
        "id": "WQgK4oY4Fnx7",
        "outputId": "5798ac2a-84f9-4798-bb0f-b1bd48be5091"
      },
      "execution_count": null,
      "outputs": [
        {
          "output_type": "stream",
          "name": "stdout",
          "text": [
            "Mounted at /content/drive\n"
          ]
        }
      ]
    },
    {
      "cell_type": "code",
      "source": [
        "# пути к датасетам и константы\n",
        "train_dir = '/content/drive/MyDrive/train'\n",
        "test_dir = '/content/drive/MyDrive/test'\n",
        "img_width, img_height = int(3024/10), int(4032/10)\n",
        "tf.random.set_seed(30)"
      ],
      "metadata": {
        "id": "oMJIRBLM_X4N"
      },
      "execution_count": null,
      "outputs": []
    },
    {
      "cell_type": "code",
      "source": [
        "# data_augmentation = tf.keras.Sequential([\n",
        "#   layers.RandomFlip(\"horizontal_and_vertical\", seed=30),\n",
        "#   layers.RandomRotation(0.2, seed=30),\n",
        "# ])"
      ],
      "metadata": {
        "id": "S7tY8Fk27ZKO"
      },
      "execution_count": null,
      "outputs": []
    },
    {
      "cell_type": "code",
      "source": [
        "# извлечение данных из датасетов\n",
        "train_generator = tf.keras.preprocessing.image_dataset_from_directory(\n",
        "    train_dir,\n",
        "    label_mode=\"binary\",\n",
        "    class_names=['big', 'small'],\n",
        "    image_size=(img_width, img_height),\n",
        "    seed=30, )\n",
        "\n",
        "test_generator = tf.keras.preprocessing.image_dataset_from_directory(\n",
        "    test_dir,\n",
        "    label_mode=\"binary\",\n",
        "    class_names=['big', 'small'],\n",
        "    image_size=(img_width, img_height),\n",
        "    seed=30, )"
      ],
      "metadata": {
        "colab": {
          "base_uri": "https://localhost:8080/"
        },
        "id": "ZKuBUz79ANGF",
        "outputId": "1b7c6bb3-2d7f-43d3-e292-865b4dfc362d"
      },
      "execution_count": null,
      "outputs": [
        {
          "output_type": "stream",
          "name": "stdout",
          "text": [
            "Found 43 files belonging to 2 classes.\n",
            "Found 21 files belonging to 2 classes.\n"
          ]
        }
      ]
    },
    {
      "cell_type": "code",
      "source": [
        "# построение модели\n",
        "model = Sequential()\n",
        "# model.add(data_augmentation)\n",
        "model.add(Flatten())\n",
        "model.add(Dense(256))\n",
        "model.add(Activation('relu'))\n",
        "model.add(Dropout(0.5))\n",
        "model.add(Dense(1))\n",
        "model.add(Activation('sigmoid'))"
      ],
      "metadata": {
        "id": "Ao3xHzhK_x3O"
      },
      "execution_count": null,
      "outputs": []
    },
    {
      "cell_type": "code",
      "source": [
        "model.compile(loss='binary_crossentropy',\n",
        "              optimizer=Adam(1e-5), \n",
        "              metrics=['accuracy'])"
      ],
      "metadata": {
        "id": "xTwMu0-z_4tk"
      },
      "execution_count": null,
      "outputs": []
    },
    {
      "cell_type": "code",
      "source": [
        "model.fit(train_generator, batch_size=20, epochs=3) # 22-3"
      ],
      "metadata": {
        "id": "DJMbqU7_ANmM",
        "colab": {
          "base_uri": "https://localhost:8080/"
        },
        "outputId": "d8206702-ac78-4c95-da4b-0f70f288dc0a"
      },
      "execution_count": null,
      "outputs": [
        {
          "output_type": "stream",
          "name": "stdout",
          "text": [
            "Epoch 1/3\n",
            "2/2 [==============================] - 18s 396ms/step - loss: 81.1859 - accuracy: 0.5349\n",
            "Epoch 2/3\n",
            "2/2 [==============================] - 6s 567ms/step - loss: 71.4914 - accuracy: 0.8140\n",
            "Epoch 3/3\n",
            "2/2 [==============================] - 5s 545ms/step - loss: 2.3414 - accuracy: 0.9767\n"
          ]
        },
        {
          "output_type": "execute_result",
          "data": {
            "text/plain": [
              "<keras.callbacks.History at 0x7f082bc46990>"
            ]
          },
          "metadata": {},
          "execution_count": 8
        }
      ]
    },
    {
      "cell_type": "code",
      "source": [
        "score = model.evaluate(test_generator)"
      ],
      "metadata": {
        "id": "bzW8L5PqAPvs",
        "colab": {
          "base_uri": "https://localhost:8080/"
        },
        "outputId": "e453bd21-995b-4c61-908a-857f63538ed8"
      },
      "execution_count": null,
      "outputs": [
        {
          "output_type": "stream",
          "name": "stdout",
          "text": [
            "1/1 [==============================] - 8s 8s/step - loss: 14.5805 - accuracy: 0.9048\n"
          ]
        }
      ]
    },
    {
      "cell_type": "code",
      "source": [
        "model.save('/content/drive/MyDrive/my_model.h5')"
      ],
      "metadata": {
        "id": "wYWmRxAp0J4h"
      },
      "execution_count": null,
      "outputs": []
    },
    {
      "cell_type": "markdown",
      "source": [
        "# Использование"
      ],
      "metadata": {
        "id": "QIWSKrRk19Hh"
      }
    },
    {
      "cell_type": "code",
      "source": [
        "# model_loaded = tf.keras.models.load_model('16_model')"
      ],
      "metadata": {
        "id": "TacZ9wFF15Cr"
      },
      "execution_count": null,
      "outputs": []
    },
    {
      "cell_type": "code",
      "source": [
        "# проверка классификации малых деталей\n",
        "for i in range(7):\n",
        "\n",
        "  # взятие изображения\n",
        "  img = load_img(f'{test_dir}/small/IMG_{7887+i*3}.jpeg')\n",
        "  img_array = img_to_array(img)\n",
        "\n",
        "  # resize и rescale\n",
        "  img_array = tf.image.resize(img_array, (img_width, img_height))\n",
        "  img_array = img_array / 255.0\n",
        "  img_expended = np.expand_dims(img_array, axis=0)\n",
        "\n",
        "  # predict \n",
        "  prediction = round(float(model.predict(img_expended)))\n",
        "  pred_label = 'small' if prediction == 1 else 'big'\n",
        "\n",
        "  # отрисовка\n",
        "  plt.figure()\n",
        "  plt.imshow(img)\n",
        "  plt.title(f'{pred_label} {prediction}')"
      ],
      "metadata": {
        "id": "3oUAAIN3JClh"
      },
      "execution_count": null,
      "outputs": []
    },
    {
      "cell_type": "code",
      "source": [
        "# проверка классификации больших деталей\n",
        "for i in range(7):\n",
        "  img = load_img(f'{test_dir}/big/IMG_{7847+i*3}.jpeg')\n",
        "  img_array = img_to_array(img)\n",
        "  img_array = tf.image.resize(img_array, (img_width, img_height))\n",
        "  img_array = img_array / 255.0\n",
        "  img_expended = np.expand_dims(img_array, axis=0)\n",
        "  prediction = round(float(model.predict(img_expended)))\n",
        "  pred_label = 'small' if prediction == 1 else 'big'\n",
        "  plt.figure()\n",
        "  plt.imshow(img)\n",
        "  plt.title(f'{pred_label} {prediction}')"
      ],
      "metadata": {
        "id": "uXZlMZppMgEO"
      },
      "execution_count": null,
      "outputs": []
    },
    {
      "cell_type": "markdown",
      "source": [
        "# Попытки сохранить"
      ],
      "metadata": {
        "id": "uQ2O-vor61Hc"
      }
    },
    {
      "cell_type": "code",
      "source": [
        "# from google.colab import files\n",
        "# files.download('16_model')\n",
        "# !zip -r /content/16_model.zip 16_model\n",
        "model.save('/content/drive/MyDrive/my_model')\n",
        "# tf.saved_model.save(model, '/content/drive/MyDrive/model')"
      ],
      "metadata": {
        "id": "ycfR3WQ63NM4"
      },
      "execution_count": null,
      "outputs": []
    }
  ]
}